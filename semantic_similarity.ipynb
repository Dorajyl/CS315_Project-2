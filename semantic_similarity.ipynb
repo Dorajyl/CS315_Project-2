{
 "cells": [
  {
   "cell_type": "code",
   "execution_count": 47,
   "id": "39b98838",
   "metadata": {},
   "outputs": [],
   "source": [
    "import requests\n",
    "import pandas as pd\n",
    "from collections import Counter\n",
    "from datetime import datetime\n",
    "import os\n",
    "from sklearn.cluster import KMeans\n",
    "import numpy as np\n",
    "from numpy.linalg import norm\n",
    "import matplotlib.pyplot as plt\n",
    "import plotly.express as px"
   ]
  },
  {
   "cell_type": "code",
   "execution_count": 7,
   "id": "b9e0b844",
   "metadata": {},
   "outputs": [],
   "source": [
    "myAPIKey = \"iDALMAL9VFMiwzWionTqK3Ve4tFDUDAQ\"\n",
    "year = 2024\n",
    "month = 2\n",
    "URL = f\"https://api.nytimes.com/svc/archive/v1/{year}/{month}.json?api-key={myAPIKey}\""
   ]
  },
  {
   "cell_type": "code",
   "execution_count": 8,
   "id": "5e7b5eb0",
   "metadata": {},
   "outputs": [
    {
     "data": {
      "text/plain": [
       "int"
      ]
     },
     "execution_count": 8,
     "metadata": {},
     "output_type": "execute_result"
    }
   ],
   "source": [
    "data = requests.get(URL)\n",
    "type(data.status_code)"
   ]
  },
  {
   "cell_type": "code",
   "execution_count": null,
   "id": "89f3d0a8",
   "metadata": {},
   "outputs": [],
   "source": [
    "articles = data.json()\n",
    "len(articles)"
   ]
  },
  {
   "cell_type": "code",
   "execution_count": null,
   "id": "82437926",
   "metadata": {},
   "outputs": [],
   "source": [
    "articles.keys()"
   ]
  },
  {
   "cell_type": "code",
   "execution_count": null,
   "id": "bbe7197f",
   "metadata": {},
   "outputs": [],
   "source": [
    "len(articles['response']['docs'])"
   ]
  },
  {
   "cell_type": "markdown",
   "id": "cd736294",
   "metadata": {},
   "source": [
    "top five “section_name”-s for the articles of Feb 2024"
   ]
  },
  {
   "cell_type": "code",
   "execution_count": null,
   "id": "150bfa33",
   "metadata": {},
   "outputs": [],
   "source": [
    "section_names = []\n",
    "for article in articles['response']['docs']:\n",
    "    section_names.append(article['section_name'])"
   ]
  },
  {
   "cell_type": "code",
   "execution_count": null,
   "id": "74ff0e2f",
   "metadata": {},
   "outputs": [],
   "source": [
    "df = pd.DataFrame()\n",
    "df[\"section_names\"] = section_names\n",
    "df"
   ]
  },
  {
   "cell_type": "code",
   "execution_count": null,
   "id": "f9e5d4a7",
   "metadata": {},
   "outputs": [],
   "source": [
    "cnt = Counter()\n",
    "def countAllHashtags(cell):\n",
    "    \"\"\"\n",
    "    Takes a string or a NaN value. Splits the srings to find hashtags, updates a Counter object\n",
    "    (a global variable) to keep track of all hashtags.\n",
    "    \"\"\"\n",
    "    if type(cell) == str: # avoid NaN values, which are float\n",
    "        htList = [el.strip() for el in cell.split(',')] # prepare individual hashtags\n",
    "        cnt.update(htList) # method update of Counter takes a list and updates all keys\n",
    "        \n",
    "_ = df['section_names'].apply(countAllHashtags)\n",
    "section_freq = cnt.most_common(5)\n",
    "section_freq"
   ]
  },
  {
   "cell_type": "markdown",
   "id": "b8e94f64",
   "metadata": {},
   "source": [
    "1. Write a Python function that takes a date, for example, \"2024-02-12\", and returns the list of articles for that day (extracting it from the month’s archive).\n",
    "2. Write some code that explores whether the fields \"abstract\" and \"snippet\" are always the same or often differ. Which one has more information?\n",
    "3. Write a function that given one article (in its nested structure), creates a flat dictionary with keys that are relevant for analysis: either the abstract or snippet (see point 2); lead paragraph; headline; keywords concatenated via semicolon; pub_date; document_type; section_name; and type_of_material\n",
    "4. Write another function that calls the function from point 3 on every article, to create a list of article dictionaries, and convert this list into a dataframe and then store it as a CSV file with the date-month in the title (this is important for point 5 below).\n",
    "5. Once you have done all of these in the notebook, create a Python script that can be called with a date (from a TikTok video). First, the script looks whether a CSV with cleaned articles is in our folder. If not, calls first the API function to get the articles and then the function that converts them into a CSV. Then, it loads the CSV into a dataframe and it uses filtering to get the articles for the desired date. These articles will be used for the Semantic Similarity portion of the TikTok Project.\n"
   ]
  },
  {
   "cell_type": "code",
   "execution_count": 15,
   "id": "759a26a8",
   "metadata": {},
   "outputs": [],
   "source": [
    "def get_articles(date):\n",
    "    \"\"\"\n",
    "    function that takes a date, for example, \"2024-02-12\", and returns the list of articles for \n",
    "    that day (extracting it from the month’s archive)\n",
    "    \"\"\"\n",
    "    result = []\n",
    "    # extract year, month, day from the date\n",
    "    datestring = date\n",
    "    dt = datetime.strptime(datestring, '%Y-%m-%d')\n",
    "    \n",
    "    # constant \n",
    "    myAPIKey = \"iDALMAL9VFMiwzWionTqK3Ve4tFDUDAQ\"\n",
    "    \n",
    "    # access NYT API\n",
    "    URL = f\"https://api.nytimes.com/svc/archive/v1/{dt.year}/{dt.month}.json?api-key={myAPIKey}\"\n",
    "    data = requests.get(URL)\n",
    "    articles = data.json()\n",
    "    \n",
    "    # add to the list if the article index if it is of the day\n",
    "    n = len(articles['response']['docs'])\n",
    "    for i in range(n):\n",
    "        d = datetime.strptime(articles['response']['docs'][i]['pub_date'][:10], '%Y-%m-%d')\n",
    "        if dt.day == d.day:\n",
    "            result.append(articles['response']['docs'][i])\n",
    "            \n",
    "    return result\n",
    "    \n"
   ]
  },
  {
   "cell_type": "code",
   "execution_count": 17,
   "id": "41e0b7b7",
   "metadata": {},
   "outputs": [],
   "source": [
    "articles = get_articles('2024-02-12')"
   ]
  },
  {
   "cell_type": "code",
   "execution_count": 31,
   "id": "a2c1e6f2",
   "metadata": {},
   "outputs": [
    {
     "data": {
      "text/plain": [
       "116"
      ]
     },
     "execution_count": 31,
     "metadata": {},
     "output_type": "execute_result"
    }
   ],
   "source": [
    "len(articles)"
   ]
  },
  {
   "cell_type": "code",
   "execution_count": 35,
   "id": "4d881471",
   "metadata": {},
   "outputs": [],
   "source": [
    "def get_article_info(article):\n",
    "    \"\"\"\n",
    "    Write a function that given one article (in its nested structure), creates a flat dictionary \n",
    "    with keys that are relevant for analysis: either the abstract or snippet (see point 2); lead \n",
    "    paragraph; headline; keywords concatenated via semicolon; pub_date; document_type; section_name; \n",
    "    and type_of_material\n",
    "    \"\"\"\n",
    "    result = {}\n",
    "    # either the abstract or snippet (see point 2)\n",
    "    if len(article['abstract']) >= len(article['snippet']):\n",
    "        result['abstract/snippet']= article['abstract']\n",
    "    else:\n",
    "        result['abstract/snippet']= article['snippet']\n",
    "    result['lead_paragraph'] = article['lead_paragraph']\n",
    "    result['headline'] = article['headline']['main']\n",
    "    \n",
    "    # keywords concatenated via semicolon\n",
    "    k = \"\"\n",
    "    for keyword in article['keywords']:\n",
    "        k+=\" \" + keyword['value']\n",
    "    keyword = k.replace(\" \", \";\") \n",
    "    result['keywords'] = keyword[1:]\n",
    "    \n",
    "    # others\n",
    "    result['pub_date'] = article['pub_date']\n",
    "    result['document_type'] = article['document_type']\n",
    "    result['section_name'] = article['section_name']\n",
    "    result['type_of_material'] = article['type_of_material']\n",
    "    \n",
    "    return result"
   ]
  },
  {
   "cell_type": "code",
   "execution_count": 36,
   "id": "006fcdd4",
   "metadata": {},
   "outputs": [
    {
     "data": {
      "text/plain": [
       "{'abstract/snippet': 'A Cetaphil commercial showed a father and daughter connecting over football and the music superstar. But a social media influencer said the idea was stolen from her.',\n",
       " 'lead_paragraph': 'When an advertisement for Cetaphil lotion was released online days before the Super Bowl, it drew rave reviews for a narrative that evoked a familiar story for parents, football fans and followers of Taylor Swift.',\n",
       " 'headline': 'Ad Nods to Taylor Swift and Football, Drawing Cheers and Criticism',\n",
       " 'keywords': 'Advertising;and;Marketing;Super;Bowl;Cosmetics;and;Toiletries;Swift,;Taylor;Kelce,;Travis;Social;Media;TikTok;(ByteDance)',\n",
       " 'pub_date': '2024-02-12T00:30:32+0000',\n",
       " 'document_type': 'article',\n",
       " 'section_name': 'Business Day',\n",
       " 'type_of_material': 'News'}"
      ]
     },
     "execution_count": 36,
     "metadata": {},
     "output_type": "execute_result"
    }
   ],
   "source": [
    "get_article_info(articles[0])"
   ]
  },
  {
   "cell_type": "code",
   "execution_count": 37,
   "id": "02f53181",
   "metadata": {},
   "outputs": [],
   "source": [
    "def dict_to_pd(articles, date):\n",
    "    \"\"\"\n",
    "    Write another function that calls the function from point 3 on every article, to create a list\n",
    "    of article dictionaries, and convert this list into a dataframe and then store it as a CSV file \n",
    "    with the date-month in the title (this is important for point 5 below).\n",
    "    \"\"\"\n",
    "    df = pd.DataFrame()\n",
    "    for article in articles:\n",
    "        article_dict = get_article_info(article)\n",
    "        d = pd.DataFrame([article_dict])\n",
    "        df = pd.concat([df,d])\n",
    "    df.to_csv(f\"{date}.csv\")"
   ]
  },
  {
   "cell_type": "code",
   "execution_count": 38,
   "id": "c16bbbff",
   "metadata": {},
   "outputs": [
    {
     "data": {
      "text/html": [
       "<div>\n",
       "<style scoped>\n",
       "    .dataframe tbody tr th:only-of-type {\n",
       "        vertical-align: middle;\n",
       "    }\n",
       "\n",
       "    .dataframe tbody tr th {\n",
       "        vertical-align: top;\n",
       "    }\n",
       "\n",
       "    .dataframe thead th {\n",
       "        text-align: right;\n",
       "    }\n",
       "</style>\n",
       "<table border=\"1\" class=\"dataframe\">\n",
       "  <thead>\n",
       "    <tr style=\"text-align: right;\">\n",
       "      <th></th>\n",
       "      <th>abstract/snippet</th>\n",
       "      <th>lead_paragraph</th>\n",
       "      <th>headline</th>\n",
       "      <th>keywords</th>\n",
       "      <th>pub_date</th>\n",
       "      <th>document_type</th>\n",
       "      <th>section_name</th>\n",
       "      <th>type_of_material</th>\n",
       "    </tr>\n",
       "  </thead>\n",
       "  <tbody>\n",
       "    <tr>\n",
       "      <th>0</th>\n",
       "      <td>A Cetaphil commercial showed a father and daug...</td>\n",
       "      <td>When an advertisement for Cetaphil lotion was ...</td>\n",
       "      <td>Ad Nods to Taylor Swift and Football, Drawing ...</td>\n",
       "      <td>Advertising;and;Marketing;Super;Bowl;Cosmetics...</td>\n",
       "      <td>2024-02-12T00:30:32+0000</td>\n",
       "      <td>article</td>\n",
       "      <td>Business Day</td>\n",
       "      <td>News</td>\n",
       "    </tr>\n",
       "    <tr>\n",
       "      <th>0</th>\n",
       "      <td>Taylor Swift and Travis Kelce have been the su...</td>\n",
       "      <td>Extending a weekslong right-wing meltdown over...</td>\n",
       "      <td>Trump Says It Would Be ‘Disloyal’ for Taylor S...</td>\n",
       "      <td>Swift,;Taylor;Kelce,;Travis;Trump,;Donald;J;Bi...</td>\n",
       "      <td>2024-02-12T00:32:24+0000</td>\n",
       "      <td>article</td>\n",
       "      <td>U.S.</td>\n",
       "      <td>News</td>\n",
       "    </tr>\n",
       "    <tr>\n",
       "      <th>0</th>\n",
       "      <td>In a halftime set that touched on more than a ...</td>\n",
       "      <td>A few minutes into Usher’s dynamic and sly Sup...</td>\n",
       "      <td>Usher Brings Precise Details to Pop’s Biggest ...</td>\n",
       "      <td>Rap;and;Hip-Hop;Super;Bowl;Usher;Keys,;Alicia;...</td>\n",
       "      <td>2024-02-12T02:14:00+0000</td>\n",
       "      <td>article</td>\n",
       "      <td>Arts</td>\n",
       "      <td>Review</td>\n",
       "    </tr>\n",
       "    <tr>\n",
       "      <th>0</th>\n",
       "      <td>The pop superstar used a Verizon ad to tell fa...</td>\n",
       "      <td>After days of speculation and online sleuthing...</td>\n",
       "      <td>Beyoncé Announces New Album in Super Bowl Comm...</td>\n",
       "      <td>Pop;and;Rock;Music;Super;Bowl;Knowles,;Beyonce...</td>\n",
       "      <td>2024-02-12T02:41:56+0000</td>\n",
       "      <td>article</td>\n",
       "      <td>Arts</td>\n",
       "      <td>News</td>\n",
       "    </tr>\n",
       "    <tr>\n",
       "      <th>0</th>\n",
       "      <td>William Albert Haynes Jr., 70, went by “Billy ...</td>\n",
       "      <td>William Albert “Billy Jack” Haynes Jr., who in...</td>\n",
       "      <td>Former W.W.F. Wrestler Arrested in Wife’s Murder</td>\n",
       "      <td>Murders,;Attempted;Murders;and;Homicides;Wrest...</td>\n",
       "      <td>2024-02-12T03:10:32+0000</td>\n",
       "      <td>article</td>\n",
       "      <td>Arts</td>\n",
       "      <td>News</td>\n",
       "    </tr>\n",
       "    <tr>\n",
       "      <th>...</th>\n",
       "      <td>...</td>\n",
       "      <td>...</td>\n",
       "      <td>...</td>\n",
       "      <td>...</td>\n",
       "      <td>...</td>\n",
       "      <td>...</td>\n",
       "      <td>...</td>\n",
       "      <td>...</td>\n",
       "    </tr>\n",
       "    <tr>\n",
       "      <th>0</th>\n",
       "      <td>Pregnant women with diabetes or high blood pre...</td>\n",
       "      <td>Women who develop high blood pressure or diabe...</td>\n",
       "      <td>Children Born to Mothers With Pregnancy Compli...</td>\n",
       "      <td>your-feed-science;Pregnancy;and;Childbirth;Dia...</td>\n",
       "      <td>2024-02-12T23:13:06+0000</td>\n",
       "      <td>article</td>\n",
       "      <td>Health</td>\n",
       "      <td>News</td>\n",
       "    </tr>\n",
       "    <tr>\n",
       "      <th>0</th>\n",
       "      <td>The shooting took place at the Mount Eden Aven...</td>\n",
       "      <td>A 35-year-old man was killed and five other pe...</td>\n",
       "      <td>One Killed and 5 Wounded in Shooting at Bronx ...</td>\n",
       "      <td>Subways;Murders,;Attempted;Murders;and;Homicid...</td>\n",
       "      <td>2024-02-12T23:13:38+0000</td>\n",
       "      <td>article</td>\n",
       "      <td>New York</td>\n",
       "      <td>News</td>\n",
       "    </tr>\n",
       "    <tr>\n",
       "      <th>0</th>\n",
       "      <td>Our guide to the themes dominating the race.</td>\n",
       "      <td>The special election in New York’s Third Congr...</td>\n",
       "      <td>How Special Is New York’s Special Election?</td>\n",
       "      <td>Politics;and;Government;Elections;Suozzi,;Thom...</td>\n",
       "      <td>2024-02-12T23:20:47+0000</td>\n",
       "      <td>article</td>\n",
       "      <td>U.S.</td>\n",
       "      <td>News</td>\n",
       "    </tr>\n",
       "    <tr>\n",
       "      <th>0</th>\n",
       "      <td>The former president showed up at the federal ...</td>\n",
       "      <td>Former President Donald J. Trump and his lawye...</td>\n",
       "      <td>Trump Attends Court Hearing on Access to Class...</td>\n",
       "      <td>Federal;Criminal;Case;Against;Trump;(Documents...</td>\n",
       "      <td>2024-02-12T23:31:02+0000</td>\n",
       "      <td>article</td>\n",
       "      <td>U.S.</td>\n",
       "      <td>News</td>\n",
       "    </tr>\n",
       "    <tr>\n",
       "      <th>0</th>\n",
       "      <td>After months of treading lightly about the for...</td>\n",
       "      <td>Nikki Haley, in the final stretch before the S...</td>\n",
       "      <td>Defending Troops, Haley Says Golf Course Is Cl...</td>\n",
       "      <td>Haley,;Nikki;R;Trump,;Donald;J;Republican;Part...</td>\n",
       "      <td>2024-02-12T23:31:55+0000</td>\n",
       "      <td>article</td>\n",
       "      <td>U.S.</td>\n",
       "      <td>News</td>\n",
       "    </tr>\n",
       "  </tbody>\n",
       "</table>\n",
       "<p>116 rows × 8 columns</p>\n",
       "</div>"
      ],
      "text/plain": [
       "                                     abstract/snippet  \\\n",
       "0   A Cetaphil commercial showed a father and daug...   \n",
       "0   Taylor Swift and Travis Kelce have been the su...   \n",
       "0   In a halftime set that touched on more than a ...   \n",
       "0   The pop superstar used a Verizon ad to tell fa...   \n",
       "0   William Albert Haynes Jr., 70, went by “Billy ...   \n",
       "..                                                ...   \n",
       "0   Pregnant women with diabetes or high blood pre...   \n",
       "0   The shooting took place at the Mount Eden Aven...   \n",
       "0        Our guide to the themes dominating the race.   \n",
       "0   The former president showed up at the federal ...   \n",
       "0   After months of treading lightly about the for...   \n",
       "\n",
       "                                       lead_paragraph  \\\n",
       "0   When an advertisement for Cetaphil lotion was ...   \n",
       "0   Extending a weekslong right-wing meltdown over...   \n",
       "0   A few minutes into Usher’s dynamic and sly Sup...   \n",
       "0   After days of speculation and online sleuthing...   \n",
       "0   William Albert “Billy Jack” Haynes Jr., who in...   \n",
       "..                                                ...   \n",
       "0   Women who develop high blood pressure or diabe...   \n",
       "0   A 35-year-old man was killed and five other pe...   \n",
       "0   The special election in New York’s Third Congr...   \n",
       "0   Former President Donald J. Trump and his lawye...   \n",
       "0   Nikki Haley, in the final stretch before the S...   \n",
       "\n",
       "                                             headline  \\\n",
       "0   Ad Nods to Taylor Swift and Football, Drawing ...   \n",
       "0   Trump Says It Would Be ‘Disloyal’ for Taylor S...   \n",
       "0   Usher Brings Precise Details to Pop’s Biggest ...   \n",
       "0   Beyoncé Announces New Album in Super Bowl Comm...   \n",
       "0    Former W.W.F. Wrestler Arrested in Wife’s Murder   \n",
       "..                                                ...   \n",
       "0   Children Born to Mothers With Pregnancy Compli...   \n",
       "0   One Killed and 5 Wounded in Shooting at Bronx ...   \n",
       "0         How Special Is New York’s Special Election?   \n",
       "0   Trump Attends Court Hearing on Access to Class...   \n",
       "0   Defending Troops, Haley Says Golf Course Is Cl...   \n",
       "\n",
       "                                             keywords  \\\n",
       "0   Advertising;and;Marketing;Super;Bowl;Cosmetics...   \n",
       "0   Swift,;Taylor;Kelce,;Travis;Trump,;Donald;J;Bi...   \n",
       "0   Rap;and;Hip-Hop;Super;Bowl;Usher;Keys,;Alicia;...   \n",
       "0   Pop;and;Rock;Music;Super;Bowl;Knowles,;Beyonce...   \n",
       "0   Murders,;Attempted;Murders;and;Homicides;Wrest...   \n",
       "..                                                ...   \n",
       "0   your-feed-science;Pregnancy;and;Childbirth;Dia...   \n",
       "0   Subways;Murders,;Attempted;Murders;and;Homicid...   \n",
       "0   Politics;and;Government;Elections;Suozzi,;Thom...   \n",
       "0   Federal;Criminal;Case;Against;Trump;(Documents...   \n",
       "0   Haley,;Nikki;R;Trump,;Donald;J;Republican;Part...   \n",
       "\n",
       "                    pub_date document_type  section_name type_of_material  \n",
       "0   2024-02-12T00:30:32+0000       article  Business Day             News  \n",
       "0   2024-02-12T00:32:24+0000       article          U.S.             News  \n",
       "0   2024-02-12T02:14:00+0000       article          Arts           Review  \n",
       "0   2024-02-12T02:41:56+0000       article          Arts             News  \n",
       "0   2024-02-12T03:10:32+0000       article          Arts             News  \n",
       "..                       ...           ...           ...              ...  \n",
       "0   2024-02-12T23:13:06+0000       article        Health             News  \n",
       "0   2024-02-12T23:13:38+0000       article      New York             News  \n",
       "0   2024-02-12T23:20:47+0000       article          U.S.             News  \n",
       "0   2024-02-12T23:31:02+0000       article          U.S.             News  \n",
       "0   2024-02-12T23:31:55+0000       article          U.S.             News  \n",
       "\n",
       "[116 rows x 8 columns]"
      ]
     },
     "execution_count": 38,
     "metadata": {},
     "output_type": "execute_result"
    }
   ],
   "source": [
    "dict_to_pd(articles,'2024-02-12')"
   ]
  },
  {
   "cell_type": "code",
   "execution_count": 45,
   "id": "45f0afff",
   "metadata": {},
   "outputs": [
    {
     "name": "stdout",
     "output_type": "stream",
     "text": [
      "Algorithm for NYT API-checkpoint.ipynb\n",
      "Algorithm for Cosine Similarity.ipynb\n",
      "algorithmic-indifference-the-dearth-of-news-recommendations-on-tiktok.pdf\n",
      "tiktok_history_sample.json\n",
      "Algorithm for NYT API.ipynb\n",
      "2024-02-12.csv\n"
     ]
    }
   ],
   "source": [
    "#paths = []\n",
    "for root, dirs, files in os.walk(\".\", topdown=False):\n",
    "    for name in files:\n",
    "        print(name)"
   ]
  },
  {
   "cell_type": "code",
   "execution_count": null,
   "id": "8c096466",
   "metadata": {},
   "outputs": [],
   "source": [
    "def cosineSimilarity(vec1, vec2):\n",
    "    \"\"\"\n",
    "    Calculate the cosine similarity between the two vectors\n",
    "    \"\"\"\n",
    "    v1 = np.array(vec1)\n",
    "    v2 = np.array(vec2)\n",
    "    cosine = np.dot(v1,v2)/(norm(v1)*norm(v2))\n",
    "    return cosine"
   ]
  },
  {
   "cell_type": "code",
   "execution_count": null,
   "id": "dd78cc05",
   "metadata": {},
   "outputs": [],
   "source": [
    "def generate_similarity(date, tiktok_descriptions):\n",
    "    \"\"\"\n",
    "    Once you have done all of these in the notebook, create a Python script that can be called with \n",
    "    a date (from a TikTok video). First, the script looks whether a CSV with cleaned articles is in \n",
    "    our folder. If not, calls first the API function to get the articles and then the function that \n",
    "    converts them into a CSV. Then, it loads the CSV into a dataframe and it uses filtering to get \n",
    "    the articles for the desired date. These articles will be used for the Semantic Similarity portion \n",
    "    of the TikTok Project.\n",
    "    \"\"\"\n",
    "    # check if a CSV w/ cleaned articles is in folder\n",
    "    files = []\n",
    "    for root, dirs, files in os.walk(\".\", topdown=False):\n",
    "        for name in files:\n",
    "            files.append(name)\n",
    "        \n",
    "    if f\"{date}.csv\" not in files:\n",
    "        articles  = get_articles(date)\n",
    "        dict_to_pd(articles,date)\n",
    "        "
   ]
  },
  {
   "cell_type": "code",
   "execution_count": null,
   "id": "42550975",
   "metadata": {},
   "outputs": [],
   "source": [
    "pd.set_option('display.max_colwidth', None)"
   ]
  }
 ],
 "metadata": {
  "kernelspec": {
   "display_name": "Python 3 (ipykernel)",
   "language": "python",
   "name": "python3"
  },
  "language_info": {
   "codemirror_mode": {
    "name": "ipython",
    "version": 3
   },
   "file_extension": ".py",
   "mimetype": "text/x-python",
   "name": "python",
   "nbconvert_exporter": "python",
   "pygments_lexer": "ipython3",
   "version": "3.11.5"
  }
 },
 "nbformat": 4,
 "nbformat_minor": 5
}
