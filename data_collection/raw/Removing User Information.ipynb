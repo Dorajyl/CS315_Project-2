{
 "cells": [
  {
   "cell_type": "code",
   "execution_count": 48,
   "id": "72dd030b",
   "metadata": {},
   "outputs": [],
   "source": [
    "import json\n",
    "\n",
    "# READ IN ORIGINAL TIKTOK JSON FILE USED IN THE PROJECT\n",
    "with open('user_data2.json', 'r') as df:\n",
    "    df_tiktok = json.load(df)\n",
    "\n",
    "# SUBSET FILE TO ONLY VIDEO BROWING HISTORY LIST\n",
    "df_vids = df_tiktok['Activity']['Video Browsing History']['VideoList']\n",
    "df_vids\n",
    "\n",
    "# WRITE JSON FILE THAT CONTAINS THE VIDEO HISTORY LIST ONLY FOR USER PROTECTION\n",
    "with open('Gr3_TikTok_VidHistory.json', 'w') as out:\n",
    "    json.dump(df_vids, out, indent=4)"
   ]
  }
 ],
 "metadata": {
  "kernelspec": {
   "display_name": "Python 3",
   "language": "python",
   "name": "python3"
  },
  "language_info": {
   "codemirror_mode": {
    "name": "ipython",
    "version": 3
   },
   "file_extension": ".py",
   "mimetype": "text/x-python",
   "name": "python",
   "nbconvert_exporter": "python",
   "pygments_lexer": "ipython3",
   "version": "3.8.8"
  }
 },
 "nbformat": 4,
 "nbformat_minor": 5
}
